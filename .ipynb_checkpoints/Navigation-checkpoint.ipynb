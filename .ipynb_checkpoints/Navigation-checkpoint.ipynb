{
 "cells": [
  {
   "cell_type": "markdown",
   "metadata": {},
   "source": [
    "# Navigation\n",
    "\n",
    "---\n",
    "\n",
    "In this notebook, you will learn how to use the Unity ML-Agents environment for the first project of the [Deep Reinforcement Learning Nanodegree](https://www.udacity.com/course/deep-reinforcement-learning-nanodegree--nd893).\n",
    "\n",
    "### 1. Start the Environment\n",
    "\n",
    "We begin by importing some necessary packages.  If the code cell below returns an error, please revisit the project instructions to double-check that you have installed [Unity ML-Agents](https://github.com/Unity-Technologies/ml-agents/blob/master/docs/Installation.md) and [NumPy](http://www.numpy.org/)."
   ]
  },
  {
   "cell_type": "code",
   "execution_count": null,
   "metadata": {},
   "outputs": [],
   "source": [
    "from unityagents import UnityEnvironment\n",
    "import numpy as np"
   ]
  },
  {
   "cell_type": "markdown",
   "metadata": {},
   "source": [
    "Next, we will start the environment!  **_Before running the code cell below_**, change the `file_name` parameter to match the location of the Unity environment that you downloaded.\n",
    "\n",
    "- **Mac**: `\"path/to/Banana.app\"`\n",
    "- **Windows** (x86): `\"path/to/Banana_Windows_x86/Banana.exe\"`\n",
    "- **Windows** (x86_64): `\"path/to/Banana_Windows_x86_64/Banana.exe\"`\n",
    "- **Linux** (x86): `\"path/to/Banana_Linux/Banana.x86\"`\n",
    "- **Linux** (x86_64): `\"path/to/Banana_Linux/Banana.x86_64\"`\n",
    "- **Linux** (x86, headless): `\"path/to/Banana_Linux_NoVis/Banana.x86\"`\n",
    "- **Linux** (x86_64, headless): `\"path/to/Banana_Linux_NoVis/Banana.x86_64\"`\n",
    "\n",
    "For instance, if you are using a Mac, then you downloaded `Banana.app`.  If this file is in the same folder as the notebook, then the line below should appear as follows:\n",
    "```\n",
    "env = UnityEnvironment(file_name=\"Banana.app\")\n",
    "```"
   ]
  },
  {
   "cell_type": "code",
   "execution_count": null,
   "metadata": {},
   "outputs": [],
   "source": [
    "env = UnityEnvironment(file_name=\"C:/Users/skycr/Udacity_Projects/Value-based-methods/p1_navigation/Banana_Windows_x86_64/Banana.exe\")"
   ]
  },
  {
   "cell_type": "markdown",
   "metadata": {},
   "source": [
    "Environments contain **_brains_** which are responsible for deciding the actions of their associated agents. Here we check for the first brain available, and set it as the default brain we will be controlling from Python."
   ]
  },
  {
   "cell_type": "code",
   "execution_count": null,
   "metadata": {},
   "outputs": [],
   "source": [
    "# get the default brain\n",
    "brain_name = env.brain_names[0]\n",
    "brain = env.brains[brain_name]"
   ]
  },
  {
   "cell_type": "markdown",
   "metadata": {},
   "source": [
    "### 2. Examine the State and Action Spaces\n",
    "\n",
    "The simulation contains a single agent that navigates a large environment.  At each time step, it has four actions at its disposal:\n",
    "- `0` - walk forward \n",
    "- `1` - walk backward\n",
    "- `2` - turn left\n",
    "- `3` - turn right\n",
    "\n",
    "The state space has `37` dimensions and contains the agent's velocity, along with ray-based perception of objects around agent's forward direction.  A reward of `+1` is provided for collecting a yellow banana, and a reward of `-1` is provided for collecting a blue banana. \n",
    "\n",
    "Run the code cell below to print some information about the environment."
   ]
  },
  {
   "cell_type": "code",
   "execution_count": null,
   "metadata": {},
   "outputs": [],
   "source": [
    "# reset the environment\n",
    "env_info = env.reset(train_mode=True)[brain_name]\n",
    "\n",
    "# number of agents in the environment\n",
    "print('Number of agents:', len(env_info.agents))\n",
    "\n",
    "# number of actions\n",
    "action_size = brain.vector_action_space_size\n",
    "print('Number of actions:', action_size)\n",
    "\n",
    "# examine the state space \n",
    "state = env_info.vector_observations[0]\n",
    "print('States look like:', state)\n",
    "state_size = len(state)\n",
    "print('States have length:', state_size)"
   ]
  },
  {
   "cell_type": "markdown",
   "metadata": {},
   "source": [
    "### 3. Take Random Actions in the Environment\n",
    "\n",
    "In the next code cell, you will learn how to use the Python API to control the agent and receive feedback from the environment.\n",
    "\n",
    "Once this cell is executed, you will watch the agent's performance, if it selects an action (uniformly) at random with each time step.  A window should pop up that allows you to observe the agent, as it moves through the environment.  \n",
    "\n",
    "Of course, as part of the project, you'll have to change the code so that the agent is able to use its experience to gradually choose better actions when interacting with the environment!"
   ]
  },
  {
   "cell_type": "code",
   "execution_count": null,
   "metadata": {},
   "outputs": [],
   "source": [
    "env_info = env.reset(train_mode=False)[brain_name] # reset the environment\n",
    "state = env_info.vector_observations[0]            # get the current state\n",
    "score = 0                                          # initialize the score\n",
    "while True:\n",
    "    action = np.random.randint(action_size)        # select an action\n",
    "    env_info = env.step(action)[brain_name]        # send the action to the environment\n",
    "    next_state = env_info.vector_observations[0]   # get the next state\n",
    "    reward = env_info.rewards[0]                   # get the reward\n",
    "    done = env_info.local_done[0]                  # see if episode has finished\n",
    "    score += reward                                # update the score\n",
    "    state = next_state                             # roll over the state to next time step\n",
    "    if done:                                       # exit loop if episode finished\n",
    "        break\n",
    "    \n",
    "print(\"Score: {}\".format(score))"
   ]
  },
  {
   "cell_type": "markdown",
   "metadata": {},
   "source": [
    "When finished, you can close the environment."
   ]
  },
  {
   "cell_type": "code",
   "execution_count": null,
   "metadata": {},
   "outputs": [],
   "source": [
    "env.close()"
   ]
  },
  {
   "cell_type": "code",
   "execution_count": null,
   "metadata": {},
   "outputs": [],
   "source": []
  },
  {
   "cell_type": "markdown",
   "metadata": {},
   "source": [
    "### 4. It's Your Turn!\n",
    "\n",
    "Now it's your turn to train your own agent to solve the environment!  When training the environment, set `train_mode=True`, so that the line for resetting the environment looks like the following:\n",
    "```python\n",
    "env_info = env.reset(train_mode=True)[brain_name]\n",
    "```"
   ]
  },
  {
   "cell_type": "markdown",
   "metadata": {},
   "source": [
    "### Imports"
   ]
  },
  {
   "cell_type": "code",
   "execution_count": 1,
   "metadata": {},
   "outputs": [],
   "source": [
    "#Basic Imports\n",
    "from unityagents import UnityEnvironment\n",
    "import numpy as np\n",
    "import torch#import stuff such as functional later when needed just doing the base imports\n",
    "import random"
   ]
  },
  {
   "cell_type": "markdown",
   "metadata": {},
   "source": [
    "### Create a model (class)"
   ]
  },
  {
   "cell_type": "code",
   "execution_count": 2,
   "metadata": {},
   "outputs": [],
   "source": [
    "#Imports for the model\n",
    "import torch.nn as nn\n",
    "import torch.nn.functional as F\n",
    "\n",
    "class QNetwork(nn.Module):\n",
    "    \"\"\"Agent Model\"\"\"\n",
    "    \n",
    "    def __init__(self, action_size, state_size, seed, fc_1=64, fc_2=64, dropout_p=0.5):\n",
    "        \"\"\"\n",
    "        class initalization\n",
    "        \n",
    "        Params\n",
    "        - action_size(int): The number of actions a agent can take\n",
    "        - state_size(int): The amount of states in a given enviroment\n",
    "        - seed(int): random seed(random number)\n",
    "        - fc_1(int): The number of nodes in the first hidden layer\n",
    "        - fc_2(int): THe number of nodes in the second hidden layer\n",
    "        - dropout_p(float): the percentage that a random neruon gets dropped out\n",
    "               \n",
    "        \"\"\"\n",
    "        \n",
    "        super(QNetwork, self).__init__()\n",
    "        self.seed = torch.manual_seed(seed)\n",
    "        self.fc1 = nn.Linear(state_size, fc_1)\n",
    "        self.fc2 = nn.Linear(fc_1, fc_2)\n",
    "        self.fc3 = nn.Linear(fc_2, action_size)\n",
    "        self.dropout = nn.Dropout(p=dropout_p)\n",
    "        \n",
    "    def forward(self, state):\n",
    "        \"\"\"\n",
    "        The Forward pass that maps state to action values including dropout for regulization\n",
    "        \"\"\"\n",
    "        x = F.relu(self.fc1(state))\n",
    "        x = self.dropout(x)\n",
    "        x = F.relu(self.fc2(x))\n",
    "        x = self.dropout(x)\n",
    "        return self.fc3(x)"
   ]
  },
  {
   "cell_type": "markdown",
   "metadata": {},
   "source": [
    "### Create a Agent"
   ]
  },
  {
   "cell_type": "code",
   "execution_count": 3,
   "metadata": {},
   "outputs": [],
   "source": [
    "#Needed imports\n",
    "import torch.optim as optim\n",
    "\n",
    "#Getting device for Q-Network\n",
    "device = torch.device(\"cuda:0\" if torch.cuda.is_available() else \"cpu\")\n",
    "\n",
    "\n",
    "class Agent():\n",
    "    \"\"\"learns the enviroment and interactis with it\"\"\"\n",
    "    \n",
    "    def __init__(self, action_size, state_size, seed, eps=1.0, lr=0.01, gamma=0.8, TAU=0.005, batch_size=64, buffer_size=int(1e5)):\n",
    "        \"\"\"\n",
    "        Initalizes a agent object\n",
    "        \n",
    "        Params\n",
    "        - action_size(int): the size of the action space\n",
    "        - state_size(int): the amount of states there are in a given enviroment\n",
    "        - seed(int): random seed(random number)\n",
    "        - eps(float): the epsilon value\n",
    "        - lr(float): the learning rate used for the optimzer\n",
    "        - gamma(float): the discount rate for the agent to limit its view for future reward or limit neersight\n",
    "        - TAU(float): the target network update parameter\n",
    "        - batch_size(int): the amount of batches\n",
    "        \"\"\"\n",
    "        #initalizations\n",
    "        self.action_size = action_size\n",
    "        self.state_size = state_size\n",
    "        self.seed = random.seed(seed)\n",
    "        self.eps = eps\n",
    "        self.gamma = gamma\n",
    "        self.TAU = TAU\n",
    "        self.batch_size = batch_size\n",
    "        \n",
    "        \n",
    "        #Creating a Q-Network\n",
    "        self.qnetwork_local = QNetwork(state_size, action_size, seed).to(device)\n",
    "        self.qnetwork_target = QNetwork(state_size, action_size, seed).to(device)\n",
    "        self.optimizer = optim.Adam(self.qnetwork_local.parameters(), lr=lr)\n",
    "        \n",
    "        # Replay memory\n",
    "        self.memory = ReplayBuffer(action_size, buffer_size, batch_size, seed)\n",
    "        # Initialize time step (for updating every UPDATE_EVERY steps)\n",
    "        self.time_step = 0\n",
    "        \n",
    "    def step(self, state, action, reward, next_state, done, update_every=4):\n",
    "        \"\"\"\n",
    "        Perform a step in the environment\n",
    "        \n",
    "        Params\n",
    "        - state: The current state in the enviroment\n",
    "        - action: the action the agent wants to take in its current enviroment\n",
    "        - reward(float): A reward obtained by the action\n",
    "        - next_state: The next state after taking the action\n",
    "        - done(bool): if the episode is done or not\n",
    "        - update_every(int): this number is how many time steps it takes to update the fixed q values\n",
    "        \"\"\"\n",
    "        #add experince tuple to memory\n",
    "        self.memory.add(state, action, reward, next_state, done)\n",
    "        \n",
    "        self.time_step = (self.time_step + 1) % update_every\n",
    "        \n",
    "        if self.time_step == 0:\n",
    "            if len(self.memory) > self.batch_size:\n",
    "                experiences = self.memory.sample()\n",
    "                self.learn(experiences)\n",
    "                \n",
    "        \n",
    "        return None\n",
    "    \n",
    "    \n",
    "    def epsilon_update(self, e_decay=.001, e_min=.005):\n",
    "        \"\"\"\n",
    "        Updates epsilon, call this function in the training loop\n",
    "        \n",
    "        Params\n",
    "        - e_decay(float): is the decay rate of the epsilon value\n",
    "        - e_min(float): the minimum value that epsilon is allowed to go to\n",
    "           \n",
    "        Returns\n",
    "        None: This function updates the class epsilon value\n",
    "        \"\"\"\n",
    "        \n",
    "        #Loop until epsilon value is equal to the min value\n",
    "        if not (self.eps <= e_min):\n",
    "            #multiply the classes epsilon value by the epsilon decay rate\n",
    "            self.eps *= e_decay\n",
    "            \n",
    "        return None\n",
    "    \n",
    "    \n",
    "    def action(self, state):\n",
    "        \"\"\"\n",
    "        given the current state select an action\n",
    "        \n",
    "        params\n",
    "        - state(array-like): the current state of the enviromnet \n",
    "        \n",
    "        returns: the action of given state for the current policy\n",
    "        \n",
    "        \"\"\"\n",
    "        \n",
    "        # Calculate action probs for each action\n",
    "        probs = np.full(self.action_size, self.eps / self.action_size)\n",
    "    \n",
    "        # Convert the state to a PyTorch tensor and move it to the device (GPU if available)\n",
    "        state_tensor = torch.from_numpy(state).float().unsqueeze(0).to(device)\n",
    "        \n",
    "        # Pass the state through the Q-network to get Q-values\n",
    "        self.qnetwork_local.eval()\n",
    "        with torch.no_grad():\n",
    "            q_values = self.qnetwork_local(state_tensor)\n",
    "        self.qnetwork_local.train()\n",
    "    \n",
    "    \n",
    "        # Move probs and q_values to the device\n",
    "        probs_tensor = torch.FloatTensor(probs).to(device)\n",
    "        q_values = q_values.to(device)\n",
    "\n",
    "        # Update action probabilities for greedy action\n",
    "        probs_tensor[q_values.argmax().item()] += 1 - self.eps\n",
    "        \n",
    "        return np.random.choice(self.action_size, p=probs_tensor.cpu().numpy())\n",
    "        \n",
    "\n",
    "    def learn(self, exp_tup):\n",
    "        \"\"\"\n",
    "        Update paramaters using the experince tuple\n",
    "        \n",
    "        Params\n",
    "        - exp_tup(tuple): experince tuple (state, action, reward, next_state, done)\n",
    "        \"\"\"\n",
    "        \n",
    "        #Unpack experince tuple\n",
    "        state, action, reward, next_state, done = exp_tup\n",
    "        \n",
    "        # Get max predicted Q values (for next states) from target model\n",
    "        Q_targets_next = self.qnetwork_target(next_state).detach().max(1)[0].unsqueeze(1)\n",
    "        # Compute Q targets for current states \n",
    "        Q_targets = reward + (self.gamma * Q_targets_next * (1 - done))\n",
    "\n",
    "        # Get expected Q values from local model\n",
    "        Q_expected = self.qnetwork_local(state).gather(1, action)\n",
    "\n",
    "        # Compute loss\n",
    "        loss = F.mse_loss(Q_expected, Q_targets)\n",
    "        # Minimize the loss\n",
    "        self.optimizer.zero_grad()\n",
    "        loss.backward()\n",
    "        self.optimizer.step()\n",
    "\n",
    "        #Update target network\n",
    "        self.soft_update(self.qnetwork_local, self.qnetwork_target, self.TAU)\n",
    "        \n",
    "        return None\n",
    "    \n",
    "    def soft_update(self, local_model, target_model):\n",
    "        \"\"\"\n",
    "        Update model paramaters\n",
    "        \n",
    "        Params\n",
    "        - local_model(pytorch model): weights will be copied from the model\n",
    "        - target_model(pytorch model): weights will be copied from the model\n",
    "        \"\"\"\n",
    "        \n",
    "        for target_param, local_param in zip(target_model.parameters(), local_model.parameters()):\n",
    "            target_param.data.copy_(self.TAU*local_param.data + (1.0-self.TAU)*target_param.data)\n",
    "        \n",
    "        return None        "
   ]
  },
  {
   "cell_type": "markdown",
   "metadata": {},
   "source": [
    "Create Replay buffer for agent."
   ]
  },
  {
   "cell_type": "code",
   "execution_count": 4,
   "metadata": {},
   "outputs": [],
   "source": [
    "#Imports\n",
    "from collections import namedtuple, deque\n",
    "\n",
    "class ReplayBuffer:\n",
    "    \"\"\"Stores a finite amount of experince tuples\"\"\"\n",
    "    \n",
    "    def __init__(self, action_size, buffer_size, batch_size, seed):\n",
    "        \"\"\"\n",
    "        Initalize a replay buffer object\n",
    "        \n",
    "        Params\n",
    "        - action_size(int): the size of the action space\n",
    "        - buffer_size(int): the size of the buffer\n",
    "        - batch_size(int): the size of each training batch\n",
    "        - seed(int): random seed(random number)\n",
    "        \"\"\"\n",
    "        \n",
    "        self.action_size = action_size\n",
    "        self.memory = deque(maxlen=buffer_size)\n",
    "        self.batch_size = batch_size\n",
    "        self.experience = namedtuple(\"Experience\", field_names=[\"state\", \"action\", \"reward\", \"next_state\", \"done\"])\n",
    "        self.seed = random.seed(seed)\n",
    "        \n",
    "        \n",
    "    def add(self, state, action, reward, next_state, done):\n",
    "        \"\"\"adds new experience to buffer\"\"\"\n",
    "        exp = self.experience(state, action, reward, next_state, done)\n",
    "        self.memory.append(exp)\n",
    "        return None\n",
    "        \n",
    "    def sample(self):\n",
    "        \"\"\"\n",
    "        sampels randomly from the stored memory\n",
    "        \n",
    "        Returns:\n",
    "        - exp_tup(tuple) a experince tuple \n",
    "        \n",
    "        \"\"\"\n",
    "        experiences = random.sample(self.memory, k=self.batch_size)\n",
    "        \n",
    "        actions = torch.from_numpy(np.vstack([e.action for e in experiences if e is not None])).long().to(device)\n",
    "        states = torch.from_numpy(np.vstack([e.state for e in experiences if e is not None])).float().to(device)\n",
    "        rewards = torch.from_numpy(np.vstack([e.reward for e in experiences if e is not None])).float().to(device)\n",
    "        next_states = torch.from_numpy(np.vstack([e.next_state for e in experiences if e is not None])).float().to(device)\n",
    "        dones = torch.from_numpy(np.vstack([e.done for e in experiences if e is not None]).astype(np.uint8)).float().to(device)\n",
    "        \n",
    "        exp_tup = (actions, states, rewards, next_states, dones)\n",
    "        \n",
    "        return  exp_tup\n",
    "    \n",
    "    def __len__(self):\n",
    "        \"\"\"Returns the size of the memory\"\"\"\n",
    "        return len(self.memory)"
   ]
  },
  {
   "cell_type": "markdown",
   "metadata": {},
   "source": [
    "### Have the agent work in the enviroment"
   ]
  },
  {
   "cell_type": "code",
   "execution_count": 5,
   "metadata": {},
   "outputs": [
    {
     "name": "stderr",
     "output_type": "stream",
     "text": [
      "INFO:unityagents:\n",
      "'Academy' started successfully!\n",
      "Unity Academy name: Academy\n",
      "        Number of Brains: 1\n",
      "        Number of External Brains : 1\n",
      "        Lesson number : 0\n",
      "        Reset Parameters :\n",
      "\t\t\n",
      "Unity brain name: BananaBrain\n",
      "        Number of Visual Observations (per agent): 0\n",
      "        Vector Observation space type: continuous\n",
      "        Vector Observation space size (per agent): 37\n",
      "        Number of stacked Vector Observation: 1\n",
      "        Vector Action space type: discrete\n",
      "        Vector Action space size (per agent): 4\n",
      "        Vector Action descriptions: , , , \n"
     ]
    }
   ],
   "source": [
    "#initalize the enviroment\n",
    "env = UnityEnvironment(file_name=\"C:/Users/skycr/Udacity_Projects/Value-based-methods/p1_navigation/Banana_Windows_x86_64/Banana.exe\")"
   ]
  },
  {
   "cell_type": "code",
   "execution_count": 6,
   "metadata": {},
   "outputs": [],
   "source": [
    "#get the brain\n",
    "brain_name = env.brain_names[0]\n",
    "brain = env.brains[brain_name]"
   ]
  },
  {
   "cell_type": "markdown",
   "metadata": {},
   "source": [
    "Obtain action and state spaces"
   ]
  },
  {
   "cell_type": "code",
   "execution_count": 7,
   "metadata": {},
   "outputs": [],
   "source": [
    "#Obtain number of actions available\n",
    "action_size = brain.vector_action_space_size\n",
    "\n",
    "# obtain the state space \n",
    "state_size = brain.vector_observation_space_size"
   ]
  },
  {
   "cell_type": "markdown",
   "metadata": {},
   "source": [
    "Run the train loop"
   ]
  },
  {
   "cell_type": "code",
   "execution_count": 8,
   "metadata": {},
   "outputs": [
    {
     "ename": "IndexError",
     "evalue": "Dimension out of range (expected to be in range of [-2, 1], but got 4)",
     "output_type": "error",
     "traceback": [
      "\u001b[1;31m---------------------------------------------------------------------------\u001b[0m",
      "\u001b[1;31mIndexError\u001b[0m                                Traceback (most recent call last)",
      "\u001b[1;32m<ipython-input-8-8e78ae8dce85>\u001b[0m in \u001b[0;36m<module>\u001b[1;34m\u001b[0m\n\u001b[0;32m     12\u001b[0m     \u001b[1;32mwhile\u001b[0m \u001b[1;32mTrue\u001b[0m\u001b[1;33m:\u001b[0m\u001b[1;33m\u001b[0m\u001b[1;33m\u001b[0m\u001b[0m\n\u001b[0;32m     13\u001b[0m \u001b[1;33m\u001b[0m\u001b[0m\n\u001b[1;32m---> 14\u001b[1;33m         \u001b[0maction\u001b[0m \u001b[1;33m=\u001b[0m \u001b[0magent\u001b[0m\u001b[1;33m.\u001b[0m\u001b[0maction\u001b[0m\u001b[1;33m(\u001b[0m\u001b[0mstate\u001b[0m\u001b[1;33m)\u001b[0m \u001b[1;31m#agents interacts with its enviroment\u001b[0m\u001b[1;33m\u001b[0m\u001b[1;33m\u001b[0m\u001b[0m\n\u001b[0m\u001b[0;32m     15\u001b[0m         \u001b[0menv_info\u001b[0m \u001b[1;33m=\u001b[0m \u001b[0menv\u001b[0m\u001b[1;33m.\u001b[0m\u001b[0mstep\u001b[0m\u001b[1;33m(\u001b[0m\u001b[0maction\u001b[0m\u001b[1;33m)\u001b[0m\u001b[1;33m[\u001b[0m\u001b[0mbrain_name\u001b[0m\u001b[1;33m]\u001b[0m \u001b[1;31m#send the action to the enviroment\u001b[0m\u001b[1;33m\u001b[0m\u001b[1;33m\u001b[0m\u001b[0m\n\u001b[0;32m     16\u001b[0m         \u001b[0mnext_state\u001b[0m \u001b[1;33m=\u001b[0m \u001b[0menv_info\u001b[0m\u001b[1;33m.\u001b[0m\u001b[0mvector_observations\u001b[0m\u001b[1;33m[\u001b[0m\u001b[1;36m0\u001b[0m\u001b[1;33m]\u001b[0m \u001b[1;31m#get the next state\u001b[0m\u001b[1;33m\u001b[0m\u001b[1;33m\u001b[0m\u001b[0m\n",
      "\u001b[1;32m<ipython-input-3-74a946625d28>\u001b[0m in \u001b[0;36maction\u001b[1;34m(self, state)\u001b[0m\n\u001b[0;32m    104\u001b[0m \u001b[1;33m\u001b[0m\u001b[0m\n\u001b[0;32m    105\u001b[0m         \u001b[1;31m# Convert the state to a PyTorch tensor and move it to the device (GPU if available)\u001b[0m\u001b[1;33m\u001b[0m\u001b[1;33m\u001b[0m\u001b[1;33m\u001b[0m\u001b[0m\n\u001b[1;32m--> 106\u001b[1;33m         \u001b[0mstate_tensor\u001b[0m \u001b[1;33m=\u001b[0m \u001b[0mtorch\u001b[0m\u001b[1;33m.\u001b[0m\u001b[0mfrom_numpy\u001b[0m\u001b[1;33m(\u001b[0m\u001b[0mstate\u001b[0m\u001b[1;33m)\u001b[0m\u001b[1;33m.\u001b[0m\u001b[0mfloat\u001b[0m\u001b[1;33m(\u001b[0m\u001b[1;33m)\u001b[0m\u001b[1;33m.\u001b[0m\u001b[0munsqueeze\u001b[0m\u001b[1;33m(\u001b[0m\u001b[1;36m4\u001b[0m\u001b[1;33m)\u001b[0m\u001b[1;33m.\u001b[0m\u001b[0mto\u001b[0m\u001b[1;33m(\u001b[0m\u001b[0mdevice\u001b[0m\u001b[1;33m)\u001b[0m\u001b[1;33m\u001b[0m\u001b[1;33m\u001b[0m\u001b[0m\n\u001b[0m\u001b[0;32m    107\u001b[0m \u001b[1;33m\u001b[0m\u001b[0m\n\u001b[0;32m    108\u001b[0m         \u001b[1;31m# Pass the state through the Q-network to get Q-values\u001b[0m\u001b[1;33m\u001b[0m\u001b[1;33m\u001b[0m\u001b[1;33m\u001b[0m\u001b[0m\n",
      "\u001b[1;31mIndexError\u001b[0m: Dimension out of range (expected to be in range of [-2, 1], but got 4)"
     ]
    }
   ],
   "source": [
    "#Later turn this into a modular function\n",
    "num_episodes = 1000 #number of episodes\n",
    "seed = 0 #initalize the seed variable\n",
    "agent = Agent(action_size, state_size, seed) #initalize agent object\n",
    "\n",
    "#Training Loop\n",
    "for episode in range(1, num_episodes + 1):\n",
    "    env_info = env.reset(train_mode=True)[brain_name] #reset enviroment\n",
    "    state = env_info.vector_observations[0] # gather current state\n",
    "    score = 0 #initalize score variable\n",
    "\n",
    "    while True:\n",
    "        \n",
    "        action = agent.action(state) #agents interacts with its enviroment\n",
    "        env_info = env.step(action)[brain_name] #send the action to the enviroment\n",
    "        next_state = env_info.vector_observations[0] #get the next state\n",
    "        reward = env_info.rewards[0] #get agents reward\n",
    "        done = env_info.local_done[0] #check if the episode is done\n",
    "        \n",
    "        #update the agent based on the experince\n",
    "        agent.step(state, action, reward, next_state, done)\n",
    "        \n",
    "        #add reward to score\n",
    "        score += reward\n",
    "        \n",
    "        #transition to next state\n",
    "        state = next_state\n",
    "        \n",
    "        if done:\n",
    "            break\n",
    "    \n",
    "    agent.epsilon_update()"
   ]
  },
  {
   "cell_type": "code",
   "execution_count": null,
   "metadata": {},
   "outputs": [],
   "source": [
    "env.close()"
   ]
  },
  {
   "cell_type": "code",
   "execution_count": null,
   "metadata": {},
   "outputs": [],
   "source": []
  },
  {
   "cell_type": "code",
   "execution_count": null,
   "metadata": {},
   "outputs": [],
   "source": []
  }
 ],
 "metadata": {
  "kernelspec": {
   "display_name": "drlnd",
   "language": "python",
   "name": "drlnd"
  },
  "language_info": {
   "codemirror_mode": {
    "name": "ipython",
    "version": 3
   },
   "file_extension": ".py",
   "mimetype": "text/x-python",
   "name": "python",
   "nbconvert_exporter": "python",
   "pygments_lexer": "ipython3",
   "version": "3.6.13"
  }
 },
 "nbformat": 4,
 "nbformat_minor": 2
}
